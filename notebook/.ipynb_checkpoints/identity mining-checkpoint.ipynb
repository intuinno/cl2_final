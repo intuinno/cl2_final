{
 "cells": [
  {
   "cell_type": "markdown",
   "metadata": {},
   "source": [
    "# Identity Mining \n",
    "\n",
    "We will build identity mining tool for the corpus related to depression. \n",
    "\n",
    "## Dataset \n",
    "\n",
    "First we will start with the MyPersonality dataset with CES-D score. \n",
    "\n",
    "### Data cleaning\n",
    "\n",
    "Let's clean the cesd_item_level.csv.   We will do \n",
    "* Arrange the answers according to the question numbers \n",
    "* Add the total score and verify with 939_userScores.csv \n",
    "\n",
    "In the file “cesd_item_level.csv”, the scores are in the range [1,4], and questions 4, 8, 12 and 16 should be reverse-scored. This means that the CES-D scored should be computed as \n",
    "\n",
    "CES-D = (q1 - 1) + (q2 - 1) + (q3 - 1) + (4 - q4) + (q5 - 1) + …\n",
    "\n"
   ]
  },
  {
   "cell_type": "code",
   "execution_count": 1,
   "metadata": {
    "collapsed": false
   },
   "outputs": [],
   "source": [
    "import numpy as np\n",
    "import pandas as pd\n",
    "\n",
    "original = pd.read_csv('../project_materials/mypersonality_depression/cesd_item_level.csv', escapechar='\\\\')\n",
    "original.question_order = original.question_order.apply(lambda x: np.fromstring(x, dtype=int, sep=\",\"))"
   ]
  },
  {
   "cell_type": "code",
   "execution_count": 2,
   "metadata": {
    "collapsed": false
   },
   "outputs": [],
   "source": [
    "# %debug\n",
    "\n",
    "for i in range(20):\n",
    "    original['correctOrderQ' + str(i+1)] = 0\n",
    "\n",
    "    \n",
    "for i, row in original.iterrows():\n",
    "    for index in range(row.question_order.shape[0]):\n",
    "#         import ipdb; ipdb.set_trace()\n",
    "        newOrder = 'correctOrderQ' + str(row.question_order[index])\n",
    "        oldValue = 'q' + str(index + 1)\n",
    "        original.loc[i,newOrder] = row[oldValue]\n",
    "        \n",
    "\n"
   ]
  },
  {
   "cell_type": "code",
   "execution_count": 3,
   "metadata": {
    "collapsed": false
   },
   "outputs": [],
   "source": [
    "#Now we will get the CES-D score\n",
    "original['score'] = 0\n",
    "direction = [ 1, 1, 1, -1, 1, 1, 1, -1, 1, 1, 1, -1, 1, 1, 1, -1, 1, 1, 1, 1 ]\n",
    "for index in range(1,21):\n",
    "    dimName = 'correctOrderQ' + str(index)\n",
    "    original.score = original.score + ( original[dimName] ) * direction[index-1]\n",
    "\n"
   ]
  },
  {
   "cell_type": "markdown",
   "metadata": {},
   "source": [
    "### Data Exploration\n",
    "\n",
    "Let's begin with the simple Histogram of scores.  "
   ]
  },
  {
   "cell_type": "code",
   "execution_count": 4,
   "metadata": {
    "collapsed": false
   },
   "outputs": [
    {
     "data": {
      "text/plain": [
       "<matplotlib.axes._subplots.AxesSubplot at 0x10ac81350>"
      ]
     },
     "execution_count": 4,
     "metadata": {},
     "output_type": "execute_result"
    },
    {
     "data": {
      "image/png": "[encoded data removed]",
      "text/plain": [
       "<matplotlib.figure.Figure at 0x10b7ff590>"
      ]
     },
     "metadata": {},
     "output_type": "display_data"
    }
   ],
   "source": [
    "import matplotlib.pyplot as plt\n",
    "%matplotlib inline\n",
    "plt.figure()\n",
    "original.score.plot(kind='hist', alpha=0.5)"
   ]
  },
  {
   "cell_type": "markdown",
   "metadata": {},
   "source": [
    "Now let's use gatherplot for interactive exploration.\n",
    "\n",
    "https://gatherplot-dev.firebaseapp.com/#/ \n",
    "\n"
   ]
  },
  {
   "cell_type": "code",
   "execution_count": 5,
   "metadata": {
    "collapsed": true
   },
   "outputs": [],
   "source": [
    "import dropbox\n",
    "import re\n",
    "import time\n",
    "from firebase import firebase\n",
    "from IPython.display import IFrame\n",
    "\n",
    "def publish_gatherplot(p, dataname):\n",
    "    \n",
    "    filename = str(time.time())+'.csv'\n",
    "    p.index.name = 'indexPandas'\n",
    "    p.to_csv(filename)\n",
    "    access_token = 'vwezSddRAD0AAAAAAAA0K2kAPqcpKnsShlfAPyIxSAYG0l2GxKfx5vtEkSyCeNOk'\n",
    "    client = dropbox.client.DropboxClient(access_token)\n",
    "    f = open(filename,'rb')\n",
    "    response = client.put_file('./gatherplot/' + filename,f)\n",
    "    print \"uploaded:\", response\n",
    "    \n",
    "    response = client.share('./gatherplot/' + filename, short_url=False)\n",
    "    print 'Shared:', response\n",
    "    url = response['url']\n",
    "    match = re.search(r'https://www\\.dropbox\\.com/s/(.+)\\?dl=0', url)\n",
    "    if match:\n",
    "#     print match.group(1)\n",
    "        download_url = 'https://dl.dropboxusercontent.com/s/' + match.group(1)\n",
    "        print download_url\n",
    "        \n",
    "    aFirebase = firebase.FirebaseApplication('https://gatherplot-dev.firebaseio.com',None)\n",
    "    \n",
    "    new_csv = {'name':dataname, \n",
    "           'uploader':\"google:110953151430048855242\", \n",
    "           'uploaderName': \"Deok Gun Park\",\n",
    "           'url': download_url } \n",
    "\n",
    "    result = aFirebase.post('/csv',new_csv)\n",
    "    print result\n",
    "    \n",
    "\n",
    "    return 'https://gatherplot-dev.firebaseapp.com/#/load/' + result['name']"
   ]
  },
  {
   "cell_type": "code",
   "execution_count": 6,
   "metadata": {
    "collapsed": false
   },
   "outputs": [
    {
     "name": "stdout",
     "output_type": "stream",
     "text": [
      "uploaded: {u'icon': u'page_white', u'bytes': 1786917, u'thumb_exists': False, u'rev': u'2516000af1980', u'modified': u'Fri, 24 Apr 2015 00:38:36 +0000', u'shareable': False, u'client_mtime': u'Fri, 24 Apr 2015 00:38:37 +0000', u'path': u'/gatherplot/1429835914.55.csv', u'is_dir': False, u'size': u'1.7 MB', u'root': u'dropbox', u'mime_type': u'text/csv', u'revision': 151904}\n",
      "Shared: {u'url': u'https://www.dropbox.com/s/ew1xc6u9jgrn7pp/1429835914.55.csv?dl=0', u'expires': u'Tue, 01 Jan 2030 00:00:00 +0000', u'visibility': u'PUBLIC'}\n",
      "https://dl.dropboxusercontent.com/s/ew1xc6u9jgrn7pp/1429835914.55.csv\n",
      "{u'name': u'-Jncr9i0xGkVuHdl2ozk'}\n"
     ]
    },
    {
     "data": {
      "text/html": [
       "\n",
       "        <iframe\n",
       "            width=\"900\"\n",
       "            height=\"900\"\n",
       "            src=\"https://gatherplot-dev.firebaseapp.com/#/load/-Jncr9i0xGkVuHdl2ozk\"\n",
       "            frameborder=\"0\"\n",
       "            allowfullscreen\n",
       "        ></iframe>\n",
       "        "
      ],
      "text/plain": [
       "<IPython.lib.display.IFrame at 0x10bd48ed0>"
      ]
     },
     "execution_count": 6,
     "metadata": {},
     "output_type": "execute_result"
    }
   ],
   "source": [
    "url = publish_gatherplot(original, \"CES-D survey exploration\")\n"
   ]
  },
  {
   "cell_type": "code",
   "execution_count": 7,
   "metadata": {
    "collapsed": false
   },
   "outputs": [
    {
     "data": {
      "text/html": [
       "\n",
       "        <iframe\n",
       "            width=\"900\"\n",
       "            height=\"1200\"\n",
       "            src=\"https://gatherplot-dev.firebaseapp.com/#/load/-Jncr9i0xGkVuHdl2ozk\"\n",
       "            frameborder=\"0\"\n",
       "            allowfullscreen\n",
       "        ></iframe>\n",
       "        "
      ],
      "text/plain": [
       "<IPython.lib.display.IFrame at 0x10bd2f4d0>"
      ]
     },
     "execution_count": 7,
     "metadata": {},
     "output_type": "execute_result"
    }
   ],
   "source": [
    "IFrame(url, 900,1200)"
   ]
  },
  {
   "cell_type": "code",
   "execution_count": null,
   "metadata": {
    "collapsed": true
   },
   "outputs": [],
   "source": []
  }
 ],
 "metadata": {
  "kernelspec": {
   "display_name": "Python 2",
   "language": "python",
   "name": "python2"
  },
  "language_info": {
   "codemirror_mode": {
    "name": "ipython",
    "version": 2
   },
   "file_extension": ".py",
   "mimetype": "text/x-python",
   "name": "python",
   "nbconvert_exporter": "python",
   "pygments_lexer": "ipython2",
   "version": "2.7.9"
  }
 },
 "nbformat": 4,
 "nbformat_minor": 0
}
