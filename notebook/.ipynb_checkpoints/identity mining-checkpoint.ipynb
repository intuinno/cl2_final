{
 "cells": [
  {
   "cell_type": "markdown",
   "metadata": {},
   "source": [
    "# Identity Mining \n",
    "\n",
    "We will build identity mining tool for the corpus related to depression. \n",
    "\n",
    "## Dataset \n",
    "\n",
    "First we will start with the MyPersonality dataset with CES-D score. \n",
    "\n",
    "### Data cleaning\n",
    "\n",
    "Let's clean the cesd_item_level.csv.   We will do \n",
    "* Arrange the answers according to the question numbers \n",
    "* Add the total score and verify with 939_userScores.csv \n",
    "* We will filter the data so that it contains only 939 data points, because other points contains invalid value.  \n",
    "\n",
    "In the file “cesd_item_level.csv”, the scores are in the range [1,4], and questions 4, 8, 12 and 16 should be reverse-scored. This means that the CES-D scored should be computed as \n",
    "\n",
    "CES-D = (q1 - 1) + (q2 - 1) + (q3 - 1) + (4 - q4) + (q5 - 1) + …\n",
    "\n"
   ]
  },
  {
   "cell_type": "code",
   "execution_count": 2,
   "metadata": {
    "collapsed": false
   },
   "outputs": [
    {
     "data": {
      "text/plain": [
       "(939, 27)"
      ]
     },
     "execution_count": 2,
     "metadata": {},
     "output_type": "execute_result"
    }
   ],
   "source": [
    "import numpy as np\n",
    "import pandas as pd\n",
    "\n",
    "original = pd.read_csv('../project_materials/mypersonality_depression/cesd_item_level.csv', escapechar='\\\\')\n",
    "cleanScore = pd.read_csv('../project_materials/mypersonality_depression/939_userScores.csv', escapechar='\\\\')\n",
    "\n",
    "original_filtered = pd.DataFrame()\n",
    "\n",
    "\n",
    "for i, row in cleanScore.iterrows():\n",
    "    original_filtered = original_filtered.append( original[(original.userid == row.userid) & (original.time_completed == row.time_completed)]) \n",
    "\n",
    "original_filtered.shape\n"
   ]
  },
  {
   "cell_type": "code",
   "execution_count": 3,
   "metadata": {
    "collapsed": true
   },
   "outputs": [],
   "source": [
    "original = original_filtered\n",
    "\n",
    "original.question_order = original.question_order.apply(lambda x: np.fromstring(x, dtype=int, sep=\",\"))"
   ]
  },
  {
   "cell_type": "code",
   "execution_count": 4,
   "metadata": {
    "collapsed": false
   },
   "outputs": [],
   "source": [
    "# %debug\n",
    "\n",
    "for i in range(20):\n",
    "    original['correctOrderQ' + str(i+1)] = 0\n",
    "\n",
    "    \n",
    "for i, row in original.iterrows():\n",
    "    for index in range(row.question_order.shape[0]):\n",
    "#         import ipdb; ipdb.set_trace()\n",
    "        newOrder = 'correctOrderQ' + str(row.question_order[index])\n",
    "        oldValue = 'q' + str(index + 1)\n",
    "        original.loc[i,newOrder] = row[oldValue]\n",
    "        \n",
    "\n"
   ]
  },
  {
   "cell_type": "code",
   "execution_count": 5,
   "metadata": {
    "collapsed": false
   },
   "outputs": [],
   "source": [
    "#Now we will get the CES-D score\n",
    "original['score'] = 0\n",
    "direction = [ 1, 1, 1, -1, 1, 1, 1, -1, 1, 1, 1, -1, 1, 1, 1, -1, 1, 1, 1, 1 ]\n",
    "for index in range(1,21):\n",
    "    dimName = 'correctOrderQ' + str(index)\n",
    "    original.score = original.score + ( original[dimName] ) * direction[index-1]\n",
    "\n"
   ]
  },
  {
   "cell_type": "markdown",
   "metadata": {},
   "source": [
    "### Data Exploration\n",
    "\n",
    "Let's begin with the simple Histogram of scores.  "
   ]
  },
  {
   "cell_type": "code",
   "execution_count": 6,
   "metadata": {
    "collapsed": false
   },
   "outputs": [
    {
     "data": {
      "text/plain": [
       "<matplotlib.axes._subplots.AxesSubplot at 0x10b38d950>"
      ]
     },
     "execution_count": 6,
     "metadata": {},
     "output_type": "execute_result"
    },
    {
     "data": {
      "image/png": "[encoded data removed]",
      "text/plain": [
       "<matplotlib.figure.Figure at 0x10b304f10>"
      ]
     },
     "metadata": {},
     "output_type": "display_data"
    }
   ],
   "source": [
    "import matplotlib.pyplot as plt\n",
    "%matplotlib inline\n",
    "plt.figure()\n",
    "original.score.plot(kind='hist', alpha=0.5)"
   ]
  },
  {
   "cell_type": "markdown",
   "metadata": {},
   "source": [
    "Now let's use gatherplot for interactive exploration.\n",
    "\n",
    "https://gatherplot-dev.firebaseapp.com/#/ \n",
    "\n"
   ]
  },
  {
   "cell_type": "code",
   "execution_count": 7,
   "metadata": {
    "collapsed": true
   },
   "outputs": [],
   "source": [
    "import dropbox\n",
    "import re\n",
    "import time\n",
    "from firebase import firebase\n",
    "from IPython.display import IFrame\n",
    "\n",
    "def publish_gatherplot(p, dataname):\n",
    "    \n",
    "    filename = str(time.time())+'.csv'\n",
    "    p.index.name = 'indexPandas'\n",
    "    p.to_csv(filename)\n",
    "    access_token = 'vwezSddRAD0AAAAAAAA0K2kAPqcpKnsShlfAPyIxSAYG0l2GxKfx5vtEkSyCeNOk'\n",
    "    client = dropbox.client.DropboxClient(access_token)\n",
    "    f = open(filename,'rb')\n",
    "    response = client.put_file('./gatherplot/' + filename,f)\n",
    "    print \"uploaded:\", response\n",
    "    \n",
    "    response = client.share('./gatherplot/' + filename, short_url=False)\n",
    "    print 'Shared:', response\n",
    "    url = response['url']\n",
    "    match = re.search(r'https://www\\.dropbox\\.com/s/(.+)\\?dl=0', url)\n",
    "    if match:\n",
    "#     print match.group(1)\n",
    "        download_url = 'https://dl.dropboxusercontent.com/s/' + match.group(1)\n",
    "        print download_url\n",
    "        \n",
    "    aFirebase = firebase.FirebaseApplication('https://gatherplot-dev.firebaseio.com',None)\n",
    "    \n",
    "    new_csv = {'name':dataname, \n",
    "           'uploader':\"google:110953151430048855242\", \n",
    "           'uploaderName': \"Deok Gun Park\",\n",
    "           'url': download_url } \n",
    "\n",
    "    result = aFirebase.post('/csv',new_csv)\n",
    "    print result\n",
    "    \n",
    "\n",
    "    return 'https://gatherplot-dev.firebaseapp.com/#/load/' + result['name']"
   ]
  },
  {
   "cell_type": "code",
   "execution_count": 8,
   "metadata": {
    "collapsed": false
   },
   "outputs": [],
   "source": [
    "# url = publish_gatherplot(original, \"CES-D survey exploration - 939 filtered \")\n",
    "url = u'https://gatherplot-dev.firebaseapp.com/#/load/-Jnisp3oVpf5W0h07lRP'"
   ]
  },
  {
   "cell_type": "code",
   "execution_count": 9,
   "metadata": {
    "collapsed": false
   },
   "outputs": [
    {
     "data": {
      "text/html": [
       "\n",
       "        <iframe\n",
       "            width=\"900\"\n",
       "            height=\"1200\"\n",
       "            src=\"https://gatherplot-dev.firebaseapp.com/#/load/-Jnisp3oVpf5W0h07lRP\"\n",
       "            frameborder=\"0\"\n",
       "            allowfullscreen\n",
       "        ></iframe>\n",
       "        "
      ],
      "text/plain": [
       "<IPython.lib.display.IFrame at 0x104d18310>"
      ]
     },
     "execution_count": 9,
     "metadata": {},
     "output_type": "execute_result"
    }
   ],
   "source": [
    "IFrame(url, 900,1200)"
   ]
  },
  {
   "cell_type": "markdown",
   "metadata": {
    "collapsed": true
   },
   "source": [
    "## Open IE \n",
    "\n",
    "We will analyze the result of Open IE. \n",
    "\n",
    "Open IE http://openie.allenai.org/\n",
    "Open IE GitHub https://github.com/knowitall/openie\n",
    "\n",
    "### Depressed Case \n",
    "\n",
    "We ran the reddit depressed.txt file and get the result.  \n"
   ]
  },
  {
   "cell_type": "code",
   "execution_count": 1,
   "metadata": {
    "collapsed": false
   },
   "outputs": [],
   "source": [
    "import pandas as pd\n",
    "ieDepressed = pd.read_csv('../other_data/ie-depressed_trimmed.csv')\n"
   ]
  },
  {
   "cell_type": "code",
   "execution_count": 6,
   "metadata": {
    "collapsed": false
   },
   "outputs": [
    {
     "data": {
      "text/html": [
       "<div style=\"max-height:1000px;max-width:1500px;overflow:auto;\">\n",
       "<table border=\"1\" class=\"dataframe\">\n",
       "  <thead>\n",
       "    <tr style=\"text-align: right;\">\n",
       "      <th></th>\n",
       "      <th>confidence</th>\n",
       "      <th> subject</th>\n",
       "      <th> relation</th>\n",
       "      <th> object</th>\n",
       "    </tr>\n",
       "  </thead>\n",
       "  <tbody>\n",
       "    <tr>\n",
       "      <th>0</th>\n",
       "      <td> 0.903040</td>\n",
       "      <td> SimpleArgument(a subreddit,List([194, 205)))</td>\n",
       "      <td>                Relation(focused,List([206, 213)))</td>\n",
       "      <td>  SimpleArgument(on peer-support,List([214, 229)))</td>\n",
       "    </tr>\n",
       "    <tr>\n",
       "      <th>1</th>\n",
       "      <td> 0.213505</td>\n",
       "      <td>              SimpleArgument(We,List([0, 2)))</td>\n",
       "      <td>                     Relation(gt,List([110, 112)))</td>\n",
       "      <td>                                               NaN</td>\n",
       "    </tr>\n",
       "    <tr>\n",
       "      <th>2</th>\n",
       "      <td> 0.786097</td>\n",
       "      <td>      SimpleArgument(nobody,List([345, 351)))</td>\n",
       "      <td>                  Relation(likes,List([352, 357)))</td>\n",
       "      <td> SimpleArgument(getting their posts removed,Lis...</td>\n",
       "    </tr>\n",
       "    <tr>\n",
       "      <th>3</th>\n",
       "      <td> 0.786097</td>\n",
       "      <td>      SimpleArgument(nobody,List([345, 351)))</td>\n",
       "      <td> Relation(likes getting,List([352, 357), [358, ...</td>\n",
       "      <td> SimpleArgument(their posts removed,List([366, ...</td>\n",
       "    </tr>\n",
       "    <tr>\n",
       "      <th>4</th>\n",
       "      <td> 0.293197</td>\n",
       "      <td> SimpleArgument(their posts,List([366, 377)))</td>\n",
       "      <td>                Relation(removed,List([378, 385)))</td>\n",
       "      <td>                                               NaN</td>\n",
       "    </tr>\n",
       "  </tbody>\n",
       "</table>\n",
       "</div>"
      ],
      "text/plain": [
       "   confidence                                       subject  \\\n",
       "0    0.903040  SimpleArgument(a subreddit,List([194, 205)))   \n",
       "1    0.213505               SimpleArgument(We,List([0, 2)))   \n",
       "2    0.786097       SimpleArgument(nobody,List([345, 351)))   \n",
       "3    0.786097       SimpleArgument(nobody,List([345, 351)))   \n",
       "4    0.293197  SimpleArgument(their posts,List([366, 377)))   \n",
       "\n",
       "                                            relation  \\\n",
       "0                 Relation(focused,List([206, 213)))   \n",
       "1                      Relation(gt,List([110, 112)))   \n",
       "2                   Relation(likes,List([352, 357)))   \n",
       "3  Relation(likes getting,List([352, 357), [358, ...   \n",
       "4                 Relation(removed,List([378, 385)))   \n",
       "\n",
       "                                              object  \n",
       "0   SimpleArgument(on peer-support,List([214, 229)))  \n",
       "1                                                NaN  \n",
       "2  SimpleArgument(getting their posts removed,Lis...  \n",
       "3  SimpleArgument(their posts removed,List([366, ...  \n",
       "4                                                NaN  "
      ]
     },
     "execution_count": 6,
     "metadata": {},
     "output_type": "execute_result"
    }
   ],
   "source": [
    "ieDepressed.head()\n"
   ]
  },
  {
   "cell_type": "markdown",
   "metadata": {},
   "source": [
    "The format is not so friendly to process.  Let's try human readable format.  \n",
    "We ran the reddit depressed.txt and get the result as readable-ie-depressed.\n"
   ]
  },
  {
   "cell_type": "code",
   "execution_count": 7,
   "metadata": {
    "collapsed": false
   },
   "outputs": [],
   "source": [
    "import codecs\n",
    "\n",
    "f = codecs.open('../other_data/readable-ie-depressed.txt', 'rU', 'utf-8')\n",
    "\n",
    "subject = []\n",
    "relation = []\n",
    "argument = []\n",
    "\n",
    "for line in f:\n",
    "#     print line\n",
    "    match = re.search('(?:Context\\(.*\\):)?\\((.*?);\\s(.*?);\\s(.*?)(?:;.*)*\\)', line)\n",
    "    if match:\n",
    "#         print match.group(3)   ## 'alice-b@google.com' (the whole match)\n",
    "        subject.append(match.group(1).lower())  ## 'alice-b' (the username, group 1)\n",
    "        relation.append(match.group(2).lower())  ## 'google.com' (the host, group 2)\n",
    "        argument.append(match.group(3).lower())  ## 'google.com' (the host, group 2)\n",
    "        \n"
   ]
  },
  {
   "cell_type": "code",
   "execution_count": 35,
   "metadata": {
    "collapsed": false
   },
   "outputs": [
    {
     "name": "stdout",
     "output_type": "stream",
     "text": [
      "* was\n",
      "* is\n",
      "* 'm\n",
      "* feel\n",
      "* have\n",
      "* 's\n",
      "* know\n",
      "* am\n",
      "* to be\n",
      "* want\n",
      "* had\n",
      "* do n't know\n",
      "* think\n",
      "* are\n",
      "* get\n",
      "* got\n",
      "* said\n",
      "* need\n",
      "* do n't want\n",
      "* started\n"
     ]
    }
   ],
   "source": [
    "from nltk import *\n",
    "\n",
    "lemmatizer = stem.WordNetLemmatizer()\n",
    "\n",
    "lemaRelation = [ lemmatizer.lemmatize(word, pos='v') for phrase in relation for word in tokenize.word_tokenize(phrase)]\n",
    "\n",
    "lemaRelationDist = FreqDist(lemaRelation)\n",
    "\n",
    "relationDist = FreqDist(relation)\n",
    "\n",
    "# relationDist.most_common(20)\n",
    "\n",
    "for i,j in relationDist.most_common(20):\n",
    "    print '* '  +  i\n",
    "\n",
    "\n"
   ]
  },
  {
   "cell_type": "markdown",
   "metadata": {},
   "source": [
    "#### Lemmatization\n",
    "\n",
    "I tried running lemmatization on the relationship data.  However the data was actually hard to get meaningful insight with lemmatization because it loses the the context like **don't know**.  You can see that **don't know** in the orginal data is replaced with **do** and **n't** in the lemmatized version. \n",
    "\n",
    "##### Top 20 words with lemmatization\n",
    "* be\n",
    "* to\n",
    "* do\n",
    "* n't\n",
    "* have\n",
    "* 'm\n",
    "* want\n",
    "* just\n",
    "* get\n",
    "* feel\n",
    "* know\n",
    "* 've\n",
    "* 's\n",
    "* try\n",
    "* not\n",
    "* go\n",
    "* think\n",
    "* can\n",
    "* ca\n",
    "* make\n",
    "\n",
    "\n",
    "\n",
    "##### Top 20 words without lemmatization \n",
    "\n",
    "* was\n",
    "* is\n",
    "* 'm\n",
    "* feel\n",
    "* have\n",
    "* 's\n",
    "* know\n",
    "* am\n",
    "* to be\n",
    "* want\n",
    "* had\n",
    "* do n't know\n",
    "* think\n",
    "* are\n",
    "* get\n",
    "* got\n",
    "* said\n",
    "* need\n",
    "* do n't want\n",
    "* started"
   ]
  },
  {
   "cell_type": "markdown",
   "metadata": {},
   "source": [
    "### Non Depressed Case \n",
    "\n",
    "Now I will do same for Non-depressed case.  First I will read the json file format. \n",
    "\n",
    "The raw data is too big in the sense it contains 800MB of text.  I will begin with 8MB of text which is 1% sampling.  "
   ]
  },
  {
   "cell_type": "code",
   "execution_count": 40,
   "metadata": {
    "collapsed": false
   },
   "outputs": [],
   "source": [
    "import json\n",
    "import codecs\n",
    "fDestination = codecs.open('../project_materials/reddit/reddit-all-data-textonly.txt',mode='w',encoding='utf-8')\n",
    "\n",
    "with codecs.open('../project_materials/reddit/reddit-all-data.out', encoding='utf-8') as fSource:\n",
    "#       nonDepressed = pd.DataFrame(json.loads(line) for line in f)\n",
    "    for i,line in enumerate(fSource):\n",
    "        \n",
    "        if len(line) != 0 and i%100 == 0:\n",
    "#             print i\n",
    "            a = json.loads(line)\n",
    "            b = a[u'selftext']\n",
    "            fDestination.write(b)\n",
    "        \n",
    "# fSource.close()\n",
    "# fDestination.close()\n",
    "            \n",
    "        "
   ]
  },
  {
   "cell_type": "markdown",
   "metadata": {
    "collapsed": false
   },
   "source": [
    "Since the OpenIE 4.0 does not work for 8MB of text file, I used its predecessor Ollie to extract the result.  The result is in the ../other_data/ie-nondepressed.tsv  \n",
    "\n"
   ]
  },
  {
   "cell_type": "code",
   "execution_count": 2,
   "metadata": {
    "collapsed": false
   },
   "outputs": [],
   "source": [
    "ieNonDepressed = pd.read_table('../other_data/ie-nondepressed.tsv')"
   ]
  },
  {
   "cell_type": "code",
   "execution_count": 4,
   "metadata": {
    "collapsed": false
   },
   "outputs": [
    {
     "data": {
      "text/html": [
       "<div style=\"max-height:1000px;max-width:1500px;overflow:auto;\">\n",
       "<table border=\"1\" class=\"dataframe\">\n",
       "  <thead>\n",
       "    <tr style=\"text-align: right;\">\n",
       "      <th></th>\n",
       "      <th>confidence</th>\n",
       "      <th>arg1</th>\n",
       "      <th>rel</th>\n",
       "      <th>arg2</th>\n",
       "      <th>enabler</th>\n",
       "      <th>attribution</th>\n",
       "      <th>text</th>\n",
       "      <th>pattern</th>\n",
       "      <th>dependencies</th>\n",
       "    </tr>\n",
       "  </thead>\n",
       "  <tbody>\n",
       "    <tr>\n",
       "      <th>0</th>\n",
       "      <td> 0.697</td>\n",
       "      <td>                        a chat</td>\n",
       "      <td>                             to be have with</td>\n",
       "      <td>                        guys</td>\n",
       "      <td> None</td>\n",
       "      <td> None</td>\n",
       "      <td> Known to most for the dance music record 'Sand...</td>\n",
       "      <td> {arg1} &lt;dobj&lt; {rel:postag=VB} &gt;{prep:regex=pre...</td>\n",
       "      <td> prep(Known_VBN_0_0, to_TO_1_6); punct(Known_VB...</td>\n",
       "    </tr>\n",
       "    <tr>\n",
       "      <th>1</th>\n",
       "      <td> 0.465</td>\n",
       "      <td>           my 4th artist album</td>\n",
       "      <td>   be a new single ' Beautiful Alien' out on</td>\n",
       "      <td>                      Friday</td>\n",
       "      <td> None</td>\n",
       "      <td> None</td>\n",
       "      <td> Known to most for the dance music record 'Sand...</td>\n",
       "      <td> {arg1} &lt;nsubj&lt; {rel:postag=NNP} &gt;{prep:regex=p...</td>\n",
       "      <td> prep(Known_VBN_0_0, to_TO_1_6); punct(Known_VB...</td>\n",
       "    </tr>\n",
       "    <tr>\n",
       "      <th>2</th>\n",
       "      <td> 0.372</td>\n",
       "      <td>           my 4th artist album</td>\n",
       "      <td> be a new single ' Beautiful Alien' out 10th</td>\n",
       "      <td>                       April</td>\n",
       "      <td> None</td>\n",
       "      <td> None</td>\n",
       "      <td> Known to most for the dance music record 'Sand...</td>\n",
       "      <td> {arg1} &lt;nsubj&lt; {rel:postag=NNP} &gt;{prep:regex=p...</td>\n",
       "      <td> prep(Known_VBN_0_0, to_TO_1_6); punct(Known_VB...</td>\n",
       "    </tr>\n",
       "    <tr>\n",
       "      <th>3</th>\n",
       "      <td> 0.906</td>\n",
       "      <td>                           you</td>\n",
       "      <td>                                 be Thank to</td>\n",
       "      <td>                    Victoria</td>\n",
       "      <td> None</td>\n",
       "      <td> None</td>\n",
       "      <td> Thank you to Victoria for helping to set this up.</td>\n",
       "      <td> {arg1} &lt;dobj&lt; {rel:postag=VB} &gt;{prep:regex=pre...</td>\n",
       "      <td> dobj(Thank_VB_0_0, you_PRP_1_6); prep(Thank_VB...</td>\n",
       "    </tr>\n",
       "    <tr>\n",
       "      <th>4</th>\n",
       "      <td> 0.692</td>\n",
       "      <td> * [www.facebook .com/darude](</td>\n",
       "      <td>                                       https</td>\n",
       "      <td> ://www.facebook .com/Darude</td>\n",
       "      <td> None</td>\n",
       "      <td> None</td>\n",
       "      <td> * [www.facebook.com/darude](https://www.facebo...</td>\n",
       "      <td>     {arg1} &lt;nsubj&lt; {rel:postag=VBZ} &gt;dobj&gt; {arg2}</td>\n",
       "      <td> amod(.com/darude]_NN_2_15, *_JJ_0_0); nn(.com/...</td>\n",
       "    </tr>\n",
       "  </tbody>\n",
       "</table>\n",
       "</div>"
      ],
      "text/plain": [
       "   confidence                           arg1  \\\n",
       "0       0.697                         a chat   \n",
       "1       0.465            my 4th artist album   \n",
       "2       0.372            my 4th artist album   \n",
       "3       0.906                            you   \n",
       "4       0.692  * [www.facebook .com/darude](   \n",
       "\n",
       "                                           rel                         arg2  \\\n",
       "0                              to be have with                         guys   \n",
       "1    be a new single ' Beautiful Alien' out on                       Friday   \n",
       "2  be a new single ' Beautiful Alien' out 10th                        April   \n",
       "3                                  be Thank to                     Victoria   \n",
       "4                                        https  ://www.facebook .com/Darude   \n",
       "\n",
       "  enabler attribution                                               text  \\\n",
       "0    None        None  Known to most for the dance music record 'Sand...   \n",
       "1    None        None  Known to most for the dance music record 'Sand...   \n",
       "2    None        None  Known to most for the dance music record 'Sand...   \n",
       "3    None        None  Thank you to Victoria for helping to set this up.   \n",
       "4    None        None  * [www.facebook.com/darude](https://www.facebo...   \n",
       "\n",
       "                                             pattern  \\\n",
       "0  {arg1} <dobj< {rel:postag=VB} >{prep:regex=pre...   \n",
       "1  {arg1} <nsubj< {rel:postag=NNP} >{prep:regex=p...   \n",
       "2  {arg1} <nsubj< {rel:postag=NNP} >{prep:regex=p...   \n",
       "3  {arg1} <dobj< {rel:postag=VB} >{prep:regex=pre...   \n",
       "4      {arg1} <nsubj< {rel:postag=VBZ} >dobj> {arg2}   \n",
       "\n",
       "                                        dependencies  \n",
       "0  prep(Known_VBN_0_0, to_TO_1_6); punct(Known_VB...  \n",
       "1  prep(Known_VBN_0_0, to_TO_1_6); punct(Known_VB...  \n",
       "2  prep(Known_VBN_0_0, to_TO_1_6); punct(Known_VB...  \n",
       "3  dobj(Thank_VB_0_0, you_PRP_1_6); prep(Thank_VB...  \n",
       "4  amod(.com/darude]_NN_2_15, *_JJ_0_0); nn(.com/...  "
      ]
     },
     "execution_count": 4,
     "metadata": {},
     "output_type": "execute_result"
    }
   ],
   "source": [
    "ieNonDepressed.head()\n"
   ]
  },
  {
   "cell_type": "code",
   "execution_count": null,
   "metadata": {
    "collapsed": true
   },
   "outputs": [],
   "source": []
  }
 ],
 "metadata": {
  "kernelspec": {
   "display_name": "Python 2",
   "language": "python",
   "name": "python2"
  },
  "language_info": {
   "codemirror_mode": {
    "name": "ipython",
    "version": 2
   },
   "file_extension": ".py",
   "mimetype": "text/x-python",
   "name": "python",
   "nbconvert_exporter": "python",
   "pygments_lexer": "ipython2",
   "version": "2.7.9"
  }
 },
 "nbformat": 4,
 "nbformat_minor": 0
}
